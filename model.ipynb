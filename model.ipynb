{
 "cells": [
  {
   "cell_type": "code",
   "execution_count": 1,
   "metadata": {},
   "outputs": [
    {
     "name": "stdout",
     "output_type": "stream",
     "text": [
      "hello WOrld\n"
     ]
    }
   ],
   "source": [
    "print(\"hello WOrld\")"
   ]
  },
  {
   "cell_type": "code",
   "execution_count": 2,
   "metadata": {},
   "outputs": [
    {
     "data": {
      "text/plain": [
       "True"
      ]
     },
     "execution_count": 2,
     "metadata": {},
     "output_type": "execute_result"
    }
   ],
   "source": [
    "from dotenv import load_dotenv\n",
    "import os\n",
    "\n",
    "load_dotenv()"
   ]
  },
  {
   "cell_type": "code",
   "execution_count": 3,
   "metadata": {},
   "outputs": [
    {
     "name": "stderr",
     "output_type": "stream",
     "text": [
      "d:\\Gen AI\\textToSql\\virtualenv\\Lib\\site-packages\\tqdm\\auto.py:21: TqdmWarning: IProgress not found. Please update jupyter and ipywidgets. See https://ipywidgets.readthedocs.io/en/stable/user_install.html\n",
      "  from .autonotebook import tqdm as notebook_tqdm\n"
     ]
    }
   ],
   "source": [
    "import google.generativeai as genai\n",
    "\n",
    "genai.configure(api_key=os.getenv(\"GENAI_API_KEY\"))\n"
   ]
  },
  {
   "cell_type": "code",
   "execution_count": 8,
   "metadata": {},
   "outputs": [],
   "source": [
    "def generate_response(question, propmt):\n",
    "    model = genai.GenerativeModel(\"gemini-1.5-flash\")\n",
    "    response = model.generate_content([propmt, question])\n",
    "    return response.text"
   ]
  },
  {
   "cell_type": "code",
   "execution_count": 5,
   "metadata": {},
   "outputs": [],
   "source": [
    "import sqlite3\n",
    "def read_sql_query(sql,db):\n",
    "    conn = sqlite3.connect(db)\n",
    "    cursor = conn.cursor()\n",
    "    cursor.execute(sql)\n",
    "    rows = cursor.fetchall()\n",
    "    conn.commit()\n",
    "    conn.close()\n",
    "\n",
    "    for row in rows:\n",
    "        print(row)\n",
    "\n",
    "    return rows"
   ]
  },
  {
   "cell_type": "code",
   "execution_count": 11,
   "metadata": {},
   "outputs": [],
   "source": [
    "prompt = \"\"\"\n",
    "You are an expert in converting English questions into SQL queries.\n",
    "\n",
    "Database Name: student  \n",
    "Tables:  \n",
    "- student (NAME, SECTION, MARK)\n",
    "\n",
    "Example Queries:\n",
    "\n",
    "1. Basic Query: \n",
    "   Input: \"What is the name of the student in section A?\"  \n",
    "   Output: SELECT NAME FROM STUDENTS WHERE SECTION = 'A';  \n",
    "\n",
    "2. Join Query:\n",
    "   Input: \"Get the names and scores of students who scored more than 80 in Math.\"  \n",
    "   Output: SELECT STUDENTS.NAME, MARKS.SCORE FROM STUDENTS  \n",
    "           JOIN MARKS ON STUDENTS.ID = MARKS.STUDENT_ID  \n",
    "           WHERE MARKS.SUBJECT = 'Math' AND MARKS.SCORE > 80;  \n",
    "\n",
    "3. Aggregation Query:**  \n",
    "   Input: \"Find the average score of students in section B.\"  \n",
    "   Output: SELECT AVG(MARKS.SCORE) FROM MARKS  \n",
    "           JOIN STUDENTS ON MARKS.STUDENT_ID = STUDENTS.ID  \n",
    "           WHERE STUDENTS.SECTION = 'B';  \n",
    "\n",
    "4. Filtering with Multiple Conditions: \n",
    "   Input: \"List students from section C who scored between 50 and 70 in Science.\"  \n",
    "   Output: SELECT STUDENTS.NAME, MARKS.SCORE FROM STUDENTS  \n",
    "           JOIN MARKS ON STUDENTS.ID = MARKS.STUDENT_ID  \n",
    "           WHERE STUDENTS.SECTION = 'C'  \n",
    "           AND MARKS.SUBJECT = 'Science'  \n",
    "           AND MARKS.SCORE BETWEEN 50 AND 70;  \n",
    "\n",
    "Guidelines:  \n",
    "- Generate only the SQL query.  \n",
    "- Do not include triple backticks (```) in the output.\n",
    "\"\"\"\n"
   ]
  },
  {
   "cell_type": "code",
   "execution_count": 13,
   "metadata": {},
   "outputs": [
    {
     "name": "stdout",
     "output_type": "stream",
     "text": [
      "Generated SQL Query:\n",
      "SELECT * FROM student;\n",
      "\n",
      "('John Doe', 'A', 85)\n",
      "('Jane Smith', 'B', 90)\n",
      "('Alice Johnson', 'A', 78)\n",
      "('Bob Brown', 'C', 88)\n",
      "('Charlie Black', 'B', 92)\n",
      "('David White', 'A', 75)\n",
      "('Eva Green', 'C', 95)\n",
      "('Frank Blue', 'B', 80)\n",
      "('Grace Yellow', 'A', 88)\n",
      "('Henry Orange', 'C', 82)\n",
      "('Ivy Purple', 'B', 91)\n",
      "('Jack Red', 'A', 87)\n"
     ]
    },
    {
     "data": {
      "text/plain": [
       "[('John Doe', 'A', 85),\n",
       " ('Jane Smith', 'B', 90),\n",
       " ('Alice Johnson', 'A', 78),\n",
       " ('Bob Brown', 'C', 88),\n",
       " ('Charlie Black', 'B', 92),\n",
       " ('David White', 'A', 75),\n",
       " ('Eva Green', 'C', 95),\n",
       " ('Frank Blue', 'B', 80),\n",
       " ('Grace Yellow', 'A', 88),\n",
       " ('Henry Orange', 'C', 82),\n",
       " ('Ivy Purple', 'B', 91),\n",
       " ('Jack Red', 'A', 87)]"
      ]
     },
     "execution_count": 13,
     "metadata": {},
     "output_type": "execute_result"
    }
   ],
   "source": [
    "question = input(\"Enter your question: \")\n",
    "response = generate_response(question, prompt)\n",
    "print(\"Generated SQL Query:\")\n",
    "print(response)\n",
    "\n",
    "# Execute the SQL query and print the results\n",
    "db = \"student.db\"\n",
    "sql_query = response\n",
    "read_sql_query(sql_query, db)"
   ]
  },
  {
   "cell_type": "code",
   "execution_count": null,
   "metadata": {},
   "outputs": [],
   "source": []
  }
 ],
 "metadata": {
  "kernelspec": {
   "display_name": "virtualenv",
   "language": "python",
   "name": "python3"
  },
  "language_info": {
   "codemirror_mode": {
    "name": "ipython",
    "version": 3
   },
   "file_extension": ".py",
   "mimetype": "text/x-python",
   "name": "python",
   "nbconvert_exporter": "python",
   "pygments_lexer": "ipython3",
   "version": "3.12.7"
  }
 },
 "nbformat": 4,
 "nbformat_minor": 2
}
